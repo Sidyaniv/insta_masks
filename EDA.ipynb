{
 "cells": [
  {
   "cell_type": "code",
   "execution_count": 1,
   "id": "initial_id",
   "metadata": {
    "collapsed": true
   },
   "outputs": [],
   "source": [
    "import cv2\n",
    "\n",
    "from src.person_announ.image_edit import ImageEditing"
   ]
  },
  {
   "cell_type": "code",
   "execution_count": 2,
   "id": "4a6e191f",
   "metadata": {},
   "outputs": [],
   "source": [
    "\n",
    "cascade = cv2.CascadeClassifier(\"models/haarcascade_frontalface_default.xml\") "
   ]
  },
  {
   "cell_type": "code",
   "execution_count": null,
   "id": "f073f8b9",
   "metadata": {},
   "outputs": [
    {
     "name": "stderr",
     "output_type": "stream",
     "text": [
      "[ WARN:0@0.266] global cap_gstreamer.cpp:1173 isPipelinePlaying OpenCV | GStreamer warning: GStreamer: pipeline have not been created\n",
      "MESA-LOADER: failed to open radeonsi: /usr/lib/dri/radeonsi_dri.so: невозможно открыть разделяемый объектный файл: Нет такого файла или каталога (search paths /usr/lib/x86_64-linux-gnu/dri:\\$${ORIGIN}/dri:/usr/lib/dri, suffix _dri)\n",
      "failed to load driver: radeonsi\n",
      "MESA-LOADER: failed to open radeonsi: /usr/lib/dri/radeonsi_dri.so: невозможно открыть разделяемый объектный файл: Нет такого файла или каталога (search paths /usr/lib/x86_64-linux-gnu/dri:\\$${ORIGIN}/dri:/usr/lib/dri, suffix _dri)\n",
      "failed to load driver: radeonsi\n",
      "MESA-LOADER: failed to open swrast: /usr/lib/dri/swrast_dri.so: невозможно открыть разделяемый объектный файл: Нет такого файла или каталога (search paths /usr/lib/x86_64-linux-gnu/dri:\\$${ORIGIN}/dri:/usr/lib/dri, suffix _dri)\n"
     ]
    }
   ],
   "source": [
    "cap = cv2.VideoCapture(0)\n",
    "# устанавливаем размеры выводимого видео\n",
    "# propid==3 - width, propid==4 - height\n",
    "cap.set(3, 640)\n",
    "cap.set(4, 480)\n",
    "\n",
    "while True: \n",
    "    # первая переменная указывает на успешность захвата кадра, а вторая - сам кадр\n",
    "    success, img = cap.read()\n",
    "\n",
    "    img_edit = ImageEditing(image=img)\n",
    "    img_edit.detect_preparation()\n",
    "    \n",
    "    faces = cascade.detectMultiScale(img_edit.img, \n",
    "                                    scaleFactor=1.3, \n",
    "                                    minNeighbors=5)\n",
    "     \n",
    "    for iter, dimension in enumerate(faces):\n",
    "        x, y, width, height = dimension\n",
    "        \n",
    "        img_edit.blur_roi(dim=dimension, blur=31)\n",
    "        img_edit.draw_faces_interface(dim=dimension)\n",
    "        \n",
    "    cv2.imshow('video', img_edit.img)\n",
    "    \n",
    "    if cv2.waitKey(1) & 0xFF == ord('q'):\n",
    "        break"
   ]
  },
  {
   "cell_type": "code",
   "execution_count": 4,
   "id": "210edc05",
   "metadata": {},
   "outputs": [],
   "source": [
    "# ImageEditing(image=img)\n",
    "# cadr.bgr2gray()\n",
    "# cadr.gray2binary()"
   ]
  }
 ],
 "metadata": {
  "kernelspec": {
   "display_name": "base",
   "language": "python",
   "name": "python3"
  },
  "language_info": {
   "codemirror_mode": {
    "name": "ipython",
    "version": 3
   },
   "file_extension": ".py",
   "mimetype": "text/x-python",
   "name": "python",
   "nbconvert_exporter": "python",
   "pygments_lexer": "ipython3",
   "version": "3.12.4"
  }
 },
 "nbformat": 4,
 "nbformat_minor": 5
}
